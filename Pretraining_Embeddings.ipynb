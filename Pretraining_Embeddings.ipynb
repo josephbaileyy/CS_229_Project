{
  "nbformat": 4,
  "nbformat_minor": 0,
  "metadata": {
    "colab": {
      "provenance": []
    },
    "kernelspec": {
      "name": "python3",
      "display_name": "Python 3"
    },
    "language_info": {
      "name": "python"
    }
  },
  "cells": [
    {
      "cell_type": "code",
      "execution_count": null,
      "metadata": {
        "id": "HfL9zdVZdzu1"
      },
      "outputs": [],
      "source": [
        "import pandas as pd\n",
        "import io\n",
        "\n",
        "url='https://drive.google.com/file/d/1IjIEhLc9n8eLKeY-yh_YigKVWbhgGBsN/view?usp=sharing'\n",
        "url='https://drive.google.com/uc?id=' + url.split('/')[-2]\n",
        "df = pd.read_csv(url)\n",
        "\n",
        "result_11 = df.loc[11::12, ['result','pick1', 'pick2', 'pick3', 'pick4', 'pick5']]\n",
        "result_10 = df.loc[10::12, ['result','pick1', 'pick2', 'pick3', 'pick4', 'pick5']]\n",
        "\n",
        "merged_result = pd.concat([result_10, result_11])\n",
        "merged_result = merged_result.sort_index()\n",
        "merged_result = merged_result.reset_index(level=None, drop=True)\n",
        "merged_result"
      ]
    },
    {
      "cell_type": "code",
      "source": [
        "# Drop rows with NaN values in any of the picks and their paired row\n",
        "def clean_data(data):\n",
        "    rows_to_drop = set()\n",
        "\n",
        "    for i in range(0, len(data), 2):\n",
        "        # Check both rows in the pair (team1 and team2)\n",
        "        if data.iloc[i, 1:].isnull().any() or data.iloc[i + 1, 1:].isnull().any():\n",
        "            rows_to_drop.add(i)\n",
        "            rows_to_drop.add(i + 1)\n",
        "\n",
        "    # Drop identified rows\n",
        "    cleaned_data = data.drop(rows_to_drop).reset_index(drop=True)\n",
        "    return cleaned_data\n",
        "\n",
        "cleaned_data = clean_data(merged_result)\n"
      ],
      "metadata": {
        "id": "0n1cb0VCakBX"
      },
      "execution_count": null,
      "outputs": []
    },
    {
      "cell_type": "code",
      "source": [
        "data = cleaned_data\n",
        "\n",
        "import pandas as pd\n",
        "from gensim.models import Word2Vec\n",
        "\n",
        "games = []\n",
        "for i in range(0, len(data), 2):\n",
        "    team1 = data.iloc[i, 1:6].tolist()\n",
        "    team2 = data.iloc[i+1, 1:6].tolist()\n",
        "\n",
        "    # Create sequences for both teams\n",
        "    games.append(team1)  # Team 1\n",
        "    games.append(team2)  # Team 2\n",
        "\n",
        "# Train the Word2Vec model\n",
        "model = Word2Vec(\n",
        "    sentences=games,\n",
        "    vector_size=8,\n",
        "    window=5,\n",
        "    min_count=1,\n",
        "    sg=1\n",
        ")"
      ],
      "metadata": {
        "id": "YwLc1_fIY3_a"
      },
      "execution_count": null,
      "outputs": []
    },
    {
      "cell_type": "code",
      "source": [
        "model.save(\"champion_embeddings.model\")\n"
      ],
      "metadata": {
        "id": "6Y7glXJWj9hB"
      },
      "execution_count": null,
      "outputs": []
    }
  ]
}